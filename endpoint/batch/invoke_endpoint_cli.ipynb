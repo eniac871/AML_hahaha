{
 "cells": [
  {
   "cell_type": "code",
   "execution_count": null,
   "metadata": {},
   "outputs": [],
   "source": [
    "! az account set --subscription=\"96aede12-2f73-41cb-b983-6d11a904839b\"\n",
    "! az configure --default workspace=\"Hahaha\" group=\"Hahaha\"\n",
    "! az ml batch-endpoint invoke --name hahahaedp --input azureml:local-file-house-price-test:1"
   ]
  }
 ],
 "metadata": {
  "kernelspec": {
   "display_name": "Python 3.8.13 ('dpv2Aug')",
   "language": "python",
   "name": "python3"
  },
  "language_info": {
   "codemirror_mode": {
    "name": "ipython",
    "version": 3
   },
   "file_extension": ".py",
   "mimetype": "text/x-python",
   "name": "python",
   "nbconvert_exporter": "python",
   "pygments_lexer": "ipython3",
   "version": "3.8.13"
  },
  "orig_nbformat": 4,
  "vscode": {
   "interpreter": {
    "hash": "80bb8445fcb6ca6333b7c6bd2e3952f1f33b929f08c89a406d55bb782874c019"
   }
  }
 },
 "nbformat": 4,
 "nbformat_minor": 2
}
