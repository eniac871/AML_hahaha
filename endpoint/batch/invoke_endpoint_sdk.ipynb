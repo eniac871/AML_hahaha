{
 "cells": [
  {
   "cell_type": "code",
   "execution_count": null,
   "metadata": {},
   "outputs": [],
   "source": [
    "from azure.ai.ml import MLClient, Input\n",
    "from azure.ai.ml.entities import (\n",
    "    BatchEndpoint,\n",
    "    BatchDeployment,\n",
    "    Model,\n",
    "    Environment,\n",
    "    BatchRetrySettings,\n",
    ")\n",
    "from azure.identity import DefaultAzureCredential,InteractiveBrowserCredential\n",
    "from azure.ai.ml.constants import BatchDeploymentOutputAction"
   ]
  },
  {
   "cell_type": "code",
   "execution_count": null,
   "metadata": {},
   "outputs": [],
   "source": [
    "subscription_id = \"96aede12-2f73-41cb-b983-6d11a904839b\"\n",
    "resource_group = \"Hahaha\"\n",
    "workspace = \"Hahaha\"\n",
    "\n",
    "ml_client = MLClient(\n",
    "    InteractiveBrowserCredential(), subscription_id, resource_group, workspace\n",
    ")"
   ]
  },
  {
   "cell_type": "code",
   "execution_count": null,
   "metadata": {},
   "outputs": [],
   "source": [
    "\n",
    "\n",
    "input = Input(\n",
    "    type=\"uri_file\",\n",
    "    path=\"/subscriptions/96aede12-2f73-41cb-b983-6d11a904839b/resourceGroups/Hahaha/providers/Microsoft.MachineLearningServices/workspaces/Hahaha/data/local-file-house-price-test/versions/1\"\n",
    ")\n",
    "\n",
    "# invoke the endpoint for batch scoring job\n",
    "job = ml_client.batch_endpoints.invoke(\n",
    "    endpoint_name=\"hahahaedp\",\n",
    "    input=input,\n",
    ")\n",
    "job\n",
    "ml_client.jobs.stream(job.name)"
   ]
  }
 ],
 "metadata": {
  "kernelspec": {
   "display_name": "Python 3.8.13 ('dpv2Aug')",
   "language": "python",
   "name": "python3"
  },
  "language_info": {
   "codemirror_mode": {
    "name": "ipython",
    "version": 3
   },
   "file_extension": ".py",
   "mimetype": "text/x-python",
   "name": "python",
   "nbconvert_exporter": "python",
   "pygments_lexer": "ipython3",
   "version": "3.8.13"
  },
  "orig_nbformat": 4,
  "vscode": {
   "interpreter": {
    "hash": "80bb8445fcb6ca6333b7c6bd2e3952f1f33b929f08c89a406d55bb782874c019"
   }
  }
 },
 "nbformat": 4,
 "nbformat_minor": 2
}
