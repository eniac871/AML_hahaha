{
 "cells": [
  {
   "cell_type": "code",
   "execution_count": 2,
   "metadata": {},
   "outputs": [],
   "source": [
    "from azure.ai.ml import MLClient, Input\n",
    "from azure.ai.ml.entities import (\n",
    "    BatchEndpoint,\n",
    "    BatchDeployment,\n",
    "    Model,\n",
    "    Environment,\n",
    "    BatchRetrySettings,\n",
    ")\n",
    "from azure.identity import DefaultAzureCredential,InteractiveBrowserCredential\n",
    "from azure.ai.ml.constants import BatchDeploymentOutputAction"
   ]
  },
  {
   "cell_type": "code",
   "execution_count": 3,
   "metadata": {},
   "outputs": [],
   "source": [
    "subscription_id = \"96aede12-2f73-41cb-b983-6d11a904839b\"\n",
    "resource_group = \"Hahaha\"\n",
    "workspace = \"Hahaha\"\n",
    "\n",
    "ml_client = MLClient(\n",
    "    InteractiveBrowserCredential(), subscription_id, resource_group, workspace\n",
    ")"
   ]
  },
  {
   "cell_type": "code",
   "execution_count": 9,
   "metadata": {},
   "outputs": [
    {
     "ename": "HttpResponseError",
     "evalue": "Referenced /subscriptions/96aede12-2f73-41cb-b983-6d11a904839b/resourceGroups/Hahaha/providers/Microsoft.MachineLearningServices/workspaces/Hahaha/datastores/azureml:local-file-house-price-test:1 is not valid; it should end like /<name>/versions/<version>.",
     "output_type": "error",
     "traceback": [
      "\u001b[1;31m---------------------------------------------------------------------------\u001b[0m",
      "\u001b[1;31mHttpResponseError\u001b[0m                         Traceback (most recent call last)",
      "\u001b[1;32mf:\\AML_hahaha\\invoke_endpoint.ipynb Cell 3\u001b[0m in \u001b[0;36m<cell line: 13>\u001b[1;34m()\u001b[0m\n\u001b[0;32m      <a href='vscode-notebook-cell:/f%3A/AML_hahaha/invoke_endpoint.ipynb#ch0000003?line=6'>7</a>\u001b[0m \u001b[39minput\u001b[39m \u001b[39m=\u001b[39m Input(\n\u001b[0;32m      <a href='vscode-notebook-cell:/f%3A/AML_hahaha/invoke_endpoint.ipynb#ch0000003?line=7'>8</a>\u001b[0m     \u001b[39mtype\u001b[39m\u001b[39m=\u001b[39m\u001b[39m\"\u001b[39m\u001b[39muri_file\u001b[39m\u001b[39m\"\u001b[39m,\n\u001b[0;32m      <a href='vscode-notebook-cell:/f%3A/AML_hahaha/invoke_endpoint.ipynb#ch0000003?line=8'>9</a>\u001b[0m     path\u001b[39m=\u001b[39m\u001b[39m\"\u001b[39m\u001b[39mazureml:local-file-house-price-test:1\u001b[39m\u001b[39m\"\u001b[39m\n\u001b[0;32m     <a href='vscode-notebook-cell:/f%3A/AML_hahaha/invoke_endpoint.ipynb#ch0000003?line=9'>10</a>\u001b[0m )\n\u001b[0;32m     <a href='vscode-notebook-cell:/f%3A/AML_hahaha/invoke_endpoint.ipynb#ch0000003?line=11'>12</a>\u001b[0m \u001b[39m# invoke the endpoint for batch scoring job\u001b[39;00m\n\u001b[1;32m---> <a href='vscode-notebook-cell:/f%3A/AML_hahaha/invoke_endpoint.ipynb#ch0000003?line=12'>13</a>\u001b[0m job \u001b[39m=\u001b[39m ml_client\u001b[39m.\u001b[39;49mbatch_endpoints\u001b[39m.\u001b[39;49minvoke(\n\u001b[0;32m     <a href='vscode-notebook-cell:/f%3A/AML_hahaha/invoke_endpoint.ipynb#ch0000003?line=13'>14</a>\u001b[0m     endpoint_name\u001b[39m=\u001b[39;49m\u001b[39m\"\u001b[39;49m\u001b[39mhahahaedp\u001b[39;49m\u001b[39m\"\u001b[39;49m,\n\u001b[0;32m     <a href='vscode-notebook-cell:/f%3A/AML_hahaha/invoke_endpoint.ipynb#ch0000003?line=14'>15</a>\u001b[0m     \u001b[39minput\u001b[39;49m\u001b[39m=\u001b[39;49m\u001b[39minput\u001b[39;49m,\n\u001b[0;32m     <a href='vscode-notebook-cell:/f%3A/AML_hahaha/invoke_endpoint.ipynb#ch0000003?line=15'>16</a>\u001b[0m )\n\u001b[0;32m     <a href='vscode-notebook-cell:/f%3A/AML_hahaha/invoke_endpoint.ipynb#ch0000003?line=16'>17</a>\u001b[0m job\n\u001b[0;32m     <a href='vscode-notebook-cell:/f%3A/AML_hahaha/invoke_endpoint.ipynb#ch0000003?line=17'>18</a>\u001b[0m ml_client\u001b[39m.\u001b[39mjobs\u001b[39m.\u001b[39mstream(job\u001b[39m.\u001b[39mname)\n",
      "File \u001b[1;32mc:\\ProgramData\\Anaconda3\\envs\\dpv2Aug\\lib\\site-packages\\azure\\ai\\ml\\_telemetry\\activity.py:258\u001b[0m, in \u001b[0;36mmonitor_with_activity.<locals>.monitor.<locals>.wrapper\u001b[1;34m(*args, **kwargs)\u001b[0m\n\u001b[0;32m    255\u001b[0m \u001b[39m@functools\u001b[39m\u001b[39m.\u001b[39mwraps(f)\n\u001b[0;32m    256\u001b[0m \u001b[39mdef\u001b[39;00m \u001b[39mwrapper\u001b[39m(\u001b[39m*\u001b[39margs, \u001b[39m*\u001b[39m\u001b[39m*\u001b[39mkwargs):\n\u001b[0;32m    257\u001b[0m     \u001b[39mwith\u001b[39;00m log_activity(logger, activity_name \u001b[39mor\u001b[39;00m f\u001b[39m.\u001b[39m\u001b[39m__name__\u001b[39m, activity_type, custom_dimensions):\n\u001b[1;32m--> 258\u001b[0m         \u001b[39mreturn\u001b[39;00m f(\u001b[39m*\u001b[39;49margs, \u001b[39m*\u001b[39;49m\u001b[39m*\u001b[39;49mkwargs)\n",
      "File \u001b[1;32mc:\\ProgramData\\Anaconda3\\envs\\dpv2Aug\\lib\\site-packages\\azure\\ai\\ml\\operations\\_batch_endpoint_operations.py:277\u001b[0m, in \u001b[0;36mBatchEndpointOperations.invoke\u001b[1;34m(self, endpoint_name, deployment_name, input, params_override, **kwargs)\u001b[0m\n\u001b[0;32m    274\u001b[0m \u001b[39mif\u001b[39;00m deployment_name:\n\u001b[0;32m    275\u001b[0m     headers[EndpointInvokeFields\u001b[39m.\u001b[39mMODEL_DEPLOYMENT] \u001b[39m=\u001b[39m deployment_name\n\u001b[1;32m--> 277\u001b[0m response \u001b[39m=\u001b[39m post_and_validate_response(\n\u001b[0;32m    278\u001b[0m     url\u001b[39m=\u001b[39;49mendpoint\u001b[39m.\u001b[39;49mproperties\u001b[39m.\u001b[39;49mscoring_uri,\n\u001b[0;32m    279\u001b[0m     json\u001b[39m=\u001b[39;49mBatchJobResource(properties\u001b[39m=\u001b[39;49mbatch_job)\u001b[39m.\u001b[39;49mserialize(),\n\u001b[0;32m    280\u001b[0m     headers\u001b[39m=\u001b[39;49mheaders,\n\u001b[0;32m    281\u001b[0m     \u001b[39m*\u001b[39;49m\u001b[39m*\u001b[39;49mkwargs,\n\u001b[0;32m    282\u001b[0m )\n\u001b[0;32m    283\u001b[0m batch_job \u001b[39m=\u001b[39m json\u001b[39m.\u001b[39mloads(response\u001b[39m.\u001b[39mtext)\n\u001b[0;32m    284\u001b[0m \u001b[39mreturn\u001b[39;00m BatchJobResource\u001b[39m.\u001b[39mdeserialize(batch_job)\n",
      "File \u001b[1;32mc:\\ProgramData\\Anaconda3\\envs\\dpv2Aug\\lib\\site-packages\\azure\\ai\\ml\\_utils\\_endpoint_utils.py:125\u001b[0m, in \u001b[0;36mpost_and_validate_response\u001b[1;34m(url, data, json, headers, **kwargs)\u001b[0m\n\u001b[0;32m    119\u001b[0m     error_map \u001b[39m=\u001b[39m {\n\u001b[0;32m    120\u001b[0m         \u001b[39m401\u001b[39m: ClientAuthenticationError,\n\u001b[0;32m    121\u001b[0m         \u001b[39m404\u001b[39m: ResourceNotFoundError,\n\u001b[0;32m    122\u001b[0m         \u001b[39m409\u001b[39m: ResourceExistsError,\n\u001b[0;32m    123\u001b[0m     }\n\u001b[0;32m    124\u001b[0m     map_error(status_code\u001b[39m=\u001b[39mresponse\u001b[39m.\u001b[39mstatus_code, response\u001b[39m=\u001b[39mresponse, error_map\u001b[39m=\u001b[39merror_map)\n\u001b[1;32m--> 125\u001b[0m     \u001b[39mraise\u001b[39;00m HttpResponseError(response\u001b[39m=\u001b[39mresponse, message\u001b[39m=\u001b[39mfailure_msg, error_format\u001b[39m=\u001b[39mARMErrorFormat)\n\u001b[0;32m    127\u001b[0m \u001b[39mreturn\u001b[39;00m response\n",
      "\u001b[1;31mHttpResponseError\u001b[0m: Referenced /subscriptions/96aede12-2f73-41cb-b983-6d11a904839b/resourceGroups/Hahaha/providers/Microsoft.MachineLearningServices/workspaces/Hahaha/datastores/azureml:local-file-house-price-test:1 is not valid; it should end like /<name>/versions/<version>."
     ]
    }
   ],
   "source": [
    "# create a dataset form the folderpath\n",
    "# input = Input(\n",
    "#     type=\"mltable\",\n",
    "#     path=\"azureml:test_data:1\",\n",
    "# )\n",
    "\n",
    "input = Input(\n",
    "    type=\"uri_file\",\n",
    "    path=\"/subscriptions/96aede12-2f73-41cb-b983-6d11a904839b/resourceGroups/Hahaha/providers/Microsoft.MachineLearningServices/workspaces/Hahaha/data/local-file-house-price-test/versions/1\"\n",
    ")\n",
    "\n",
    "# invoke the endpoint for batch scoring job\n",
    "job = ml_client.batch_endpoints.invoke(\n",
    "    endpoint_name=\"hahahaedp\",\n",
    "    input=input,\n",
    ")\n",
    "job\n",
    "ml_client.jobs.stream(job.name)"
   ]
  }
 ],
 "metadata": {
  "kernelspec": {
   "display_name": "Python 3.8.13 ('dpv2Aug')",
   "language": "python",
   "name": "python3"
  },
  "language_info": {
   "codemirror_mode": {
    "name": "ipython",
    "version": 3
   },
   "file_extension": ".py",
   "mimetype": "text/x-python",
   "name": "python",
   "nbconvert_exporter": "python",
   "pygments_lexer": "ipython3",
   "version": "3.8.13"
  },
  "orig_nbformat": 4,
  "vscode": {
   "interpreter": {
    "hash": "80bb8445fcb6ca6333b7c6bd2e3952f1f33b929f08c89a406d55bb782874c019"
   }
  }
 },
 "nbformat": 4,
 "nbformat_minor": 2
}
