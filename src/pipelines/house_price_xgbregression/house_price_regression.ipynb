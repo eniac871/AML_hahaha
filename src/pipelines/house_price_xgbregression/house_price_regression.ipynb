{
 "cells": [
  {
   "cell_type": "markdown",
   "metadata": {},
   "source": [
    "# House Price regression\n",
    "\n",
    "**Requirements** - In order to benefit from this tutorial, you will need:\n",
    "- A basic understanding of Machine Learning\n",
    "- An Azure account with an active subscription - [Create an account for free](https://azure.microsoft.com/free/?WT.mc_id=A261C142F)\n",
    "- An Azure ML workspace with computer cluster - [Configure workspace](../../configuration.ipynb)\n",
    "- A python environment\n",
    "- Installed Azure Machine Learning Python SDK v2 - [install instructions](../../../README.md) - check the getting started section\n",
    "\n",
    "**Learning Objectives** - By the end of this tutorial, you should be able to:\n",
    "- Connect to your AML workspace from the Python SDK\n",
    "- Define different `CommandComponent` using YAML\n",
    "- Create `Pipeline` load these components from YAML\n",
    "\n",
    "**Motivations** - This notebook explains how to load component via SDK then use these components to build pipeline. We use NYC dataset, build pipeline with five steps, prep data, transform data, train model, predict results and evaluate model performance."
   ]
  },
  {
   "cell_type": "markdown",
   "metadata": {},
   "source": [
    "# 1. Connect to Azure Machine Learning Workspace\n",
    "\n",
    "The [workspace](https://docs.microsoft.com/en-us/azure/machine-learning/concept-workspace) is the top-level resource for Azure Machine Learning, providing a centralized place to work with all the artifacts you create when you use Azure Machine Learning. In this section we will connect to the workspace in which the job will be run.\n",
    "\n",
    "## 1.1 Import the required libraries"
   ]
  },
  {
   "cell_type": "code",
   "execution_count": 1,
   "metadata": {},
   "outputs": [],
   "source": [
    "# import required libraries\n",
    "from azure.identity import DefaultAzureCredential, InteractiveBrowserCredential\n",
    "\n",
    "from azure.ai.ml import MLClient, Input\n",
    "from azure.ai.ml.dsl import pipeline\n",
    "from azure.ai.ml import load_component"
   ]
  },
  {
   "cell_type": "markdown",
   "metadata": {},
   "source": [
    "## 1.2 Configure credential\n",
    "\n",
    "We are using `DefaultAzureCredential` to get access to workspace. \n",
    "`DefaultAzureCredential` should be capable of handling most Azure SDK authentication scenarios. \n",
    "\n",
    "Reference for more available credentials if it does not work for you: [configure credential example](../../configuration.ipynb), [azure-identity reference doc](https://docs.microsoft.com/en-us/python/api/azure-identity/azure.identity?view=azure-python)."
   ]
  },
  {
   "cell_type": "code",
   "execution_count": 2,
   "metadata": {},
   "outputs": [],
   "source": [
    "try:\n",
    "    credential = InteractiveBrowserCredential()\n",
    "    # Check if given credential can get token successfully.\n",
    "    credential.get_token(\"https://management.azure.com/.default\")\n",
    "except Exception as ex:\n",
    "    # Fall back to InteractiveBrowserCredential in case DefaultAzureCredential not work\n",
    "    credential = InteractiveBrowserCredential()"
   ]
  },
  {
   "cell_type": "markdown",
   "metadata": {},
   "source": [
    "## 1.3 Get a handle to the workspace\n",
    "\n",
    "We use config file to connect to a workspace. The Azure ML workspace should be configured with computer cluster. [Check this notebook for configure a workspace](../../configuration.ipynb)"
   ]
  },
  {
   "cell_type": "code",
   "execution_count": 3,
   "metadata": {},
   "outputs": [
    {
     "name": "stderr",
     "output_type": "stream",
     "text": [
      "Found the config file in: C:\\Users\\zhangzheng.REDMOND\\source\\repos\\AML_hahaha\\src\\pipelines\\.azureml\\config.json\n",
      "Found the config file in: C:\\Users\\zhangzheng.REDMOND\\source\\repos\\AML_hahaha\\src\\pipelines\\.azureml\\config.json\n"
     ]
    },
    {
     "name": "stdout",
     "output_type": "stream",
     "text": [
      "MLClient(credential=<azure.identity._credentials.browser.InteractiveBrowserCredential object at 0x00000235760EBD60>,\n",
      "         subscription_id=96aede12-2f73-41cb-b983-6d11a904839b,\n",
      "         resource_group_name=Hahaha,\n",
      "         workspace_name=Hahaha)\n",
      "AmlCompute({'type': 'amlcompute', 'created_on': None, 'provisioning_state': 'Succeeded', 'provisioning_errors': None, 'name': 'cpu-cluster', 'description': None, 'tags': {}, 'properties': {}, 'id': '/subscriptions/96aede12-2f73-41cb-b983-6d11a904839b/resourceGroups/Hahaha/providers/Microsoft.MachineLearningServices/workspaces/Hahaha/computes/cpu-cluster', 'source_path': None, 'base_path': 'c:\\\\Users\\\\zhangzheng.REDMOND\\\\source\\\\repos\\\\AML_hahaha\\\\src\\\\pipelines\\\\house_price_xgbregression', 'creation_context': None, 'serialize': <msrest.serialization.Serializer object at 0x000002357B129E50>, 'resource_id': None, 'location': 'southeastasia', 'size': 'STANDARD_DS3_V2', 'min_instances': 0, 'max_instances': 4, 'idle_time_before_scale_down': 1200.0, 'identity': None, 'ssh_public_access_enabled': True, 'ssh_settings': None, 'network_settings': None, 'tier': 'dedicated'})\n"
     ]
    }
   ],
   "source": [
    "try:\n",
    "    ml_client = MLClient.from_config(credential=credential)\n",
    "except Exception as ex:\n",
    "    # NOTE: Update following workspace information if not correctly configure before\n",
    "    client_config = {\n",
    "        \"subscription_id\": \"96aede12-2f73-41cb-b983-6d11a904839b\",\n",
    "        \"resource_group\": \"Hahaha\",\n",
    "        \"workspace_name\": \"Hahaha\",\n",
    "    }\n",
    "\n",
    "    if client_config[\"subscription_id\"].startswith(\"<\"):\n",
    "        print(\n",
    "            \"please update your <SUBSCRIPTION_ID> <RESOURCE_GROUP> <AML_WORKSPACE_NAME> in notebook cell\"\n",
    "        )\n",
    "        raise ex\n",
    "    else:  # write and reload from config file\n",
    "        import json, os\n",
    "\n",
    "        config_path = \"../.azureml/config.json\"\n",
    "        os.makedirs(os.path.dirname(config_path), exist_ok=True)\n",
    "        with open(config_path, \"w\") as fo:\n",
    "            fo.write(json.dumps(client_config))\n",
    "        ml_client = MLClient.from_config(credential=credential, path=config_path)\n",
    "print(ml_client)\n",
    "\n",
    "# Get a handle to workspace\n",
    "ml_client = MLClient.from_config(credential=credential)\n",
    "\n",
    "# Retrieve an already attached Azure Machine Learning Compute.\n",
    "cluster_name = \"cpu-cluster\"\n",
    "print(ml_client.compute.get(cluster_name))"
   ]
  },
  {
   "cell_type": "markdown",
   "metadata": {},
   "source": [
    "# 2. Build pipeline"
   ]
  },
  {
   "cell_type": "code",
   "execution_count": 45,
   "metadata": {},
   "outputs": [],
   "source": [
    "parent_dir = \"\"\n",
    "\n",
    "# 1. Load components\n",
    "prepare_data = load_component(path=parent_dir + \"./prep.yml\")\n",
    "# transform_data = load_component(path=parent_dir + \"./transform.yml\")\n",
    "train_model = load_component(path=parent_dir + \"./train.yml\")\n",
    "# predict_result = load_component(path=parent_dir + \"./predict.yml\")\n",
    "# score_data = load_component(path=parent_dir + \"./score.yml\")\n",
    "\n",
    "# 2. Construct pipeline\n",
    "@pipeline()\n",
    "def house_price_regression(pipeline_job_input):\n",
    "    prepare_sample_data = prepare_data(raw_data=pipeline_job_input)\n",
    "    train_with_sample_data = train_model(\n",
    "        training_data=prepare_sample_data.outputs.prep_data,\n",
    "        price_data=prepare_sample_data.outputs.price_data\n",
    "    )\n",
    "    return {\n",
    "        \"pipeline_job_prepped_train_data\": prepare_sample_data.outputs.prep_data,\n",
    "        \"pipeline_job_prepped_price_data\": prepare_sample_data.outputs.price_data,\n",
    "        \"pipeline_job_trained_model\": train_with_sample_data.outputs.model_output,\n",
    "        }\n",
    "\n",
    "\n",
    "pipeline_job = house_price_regression(\n",
    "    Input(type=\"uri_folder\", path=parent_dir + \"./data/\")\n",
    ")\n",
    "# demo how to change pipeline output settings\n",
    "pipeline_job.outputs.pipeline_job_prepped_train_data.mode = \"rw_mount\"\n",
    "\n",
    "# set pipeline level compute\n",
    "pipeline_job.settings.default_compute = \"cpu-cluster\"\n",
    "# set pipeline level datastore\n",
    "pipeline_job.settings.default_datastore = \"workspaceblobstore\""
   ]
  },
  {
   "cell_type": "markdown",
   "metadata": {},
   "source": [
    "## 3. Submit pipeline job"
   ]
  },
  {
   "cell_type": "code",
   "execution_count": 46,
   "metadata": {},
   "outputs": [
    {
     "data": {
      "text/html": [
       "<table style=\"width:100%\"><tr><th>Experiment</th><th>Name</th><th>Type</th><th>Status</th><th>Details Page</th></tr><tr><td>house_price_regression</td><td>jolly_plum_m31gs3c812</td><td>pipeline</td><td>Preparing</td><td><a href=\"https://ml.azure.com/runs/jolly_plum_m31gs3c812?wsid=/subscriptions/96aede12-2f73-41cb-b983-6d11a904839b/resourcegroups/Hahaha/workspaces/Hahaha&amp;tid=72f988bf-86f1-41af-91ab-2d7cd011db47\" target=\"_blank\" rel=\"noopener\">Link to Azure Machine Learning studio</a></td></tr></table>"
      ],
      "text/plain": [
       "PipelineJob({'inputs': {'pipeline_job_input': <azure.ai.ml.entities._job.pipeline._io.PipelineInput object at 0x0000023503928BE0>}, 'outputs': {'pipeline_job_prepped_train_data': <azure.ai.ml.entities._job.pipeline._io.PipelineOutput object at 0x0000023503928880>, 'pipeline_job_prepped_price_data': <azure.ai.ml.entities._job.pipeline._io.PipelineOutput object at 0x00000235039283A0>, 'pipeline_job_trained_model': <azure.ai.ml.entities._job.pipeline._io.PipelineOutput object at 0x0000023503928DC0>, 'pipeline_job_test_data': <azure.ai.ml.entities._job.pipeline._io.PipelineOutput object at 0x0000023503928A00>}, 'component': _PipelineComponent({'components': {}, 'auto_increment_version': False, 'is_anonymous': True, 'name': 'azureml_anonymous', 'description': None, 'tags': {}, 'properties': {}, 'id': None, 'source_path': None, 'base_path': None, 'creation_context': None, 'serialize': <msrest.serialization.Serializer object at 0x0000023503928790>, 'version': '1', 'latest_version': None, 'schema': None, 'type': 'pipeline_component', 'display_name': 'house_price_regression', 'is_deterministic': True, 'inputs': {'pipeline_job_input': {'type': 'unknown', 'mode': 'ro_mount'}}, 'outputs': {'pipeline_job_prepped_train_data': {'type': 'unknown', 'mode': 'rw_mount'}, 'pipeline_job_prepped_price_data': {'type': 'unknown', 'mode': 'rw_mount'}, 'pipeline_job_trained_model': {'type': 'unknown', 'mode': 'rw_mount'}, 'pipeline_job_test_data': {'type': 'unknown', 'mode': 'rw_mount'}}, 'source': 'REST', 'yaml_str': None, 'other_parameter': {}, 'func': <function [component] house_price_regression at 0x0000023502353D30>}), 'type': 'pipeline', 'status': 'Preparing', 'log_files': None, 'name': 'jolly_plum_m31gs3c812', 'description': None, 'tags': {}, 'properties': {'mlflow.source.git.repoURL': 'https://github.com/lazhangzheng/AML_hahaha.git', 'mlflow.source.git.branch': 'house_price_aml', 'mlflow.source.git.commit': 'ce06e62526ffe5ce421578b73d611cae3ce28f56', 'azureml.git.dirty': 'True', 'azureml.DevPlatv2': 'true', 'azureml.runsource': 'azureml.PipelineRun', 'runSource': 'MFE', 'runType': 'HTTP', 'azureml.parameters': '{}', 'azureml.continue_on_step_failure': 'False', 'azureml.continue_on_failed_optional_input': 'True', 'azureml.pipelineComponent': 'pipelinerun'}, 'id': '/subscriptions/96aede12-2f73-41cb-b983-6d11a904839b/resourceGroups/Hahaha/providers/Microsoft.MachineLearningServices/workspaces/Hahaha/jobs/jolly_plum_m31gs3c812', 'source_path': None, 'base_path': 'c:\\\\Users\\\\zhangzheng.REDMOND\\\\source\\\\repos\\\\AML_hahaha\\\\src\\\\pipelines\\\\house_price_xgbregression', 'creation_context': <azure.ai.ml._restclient.v2022_02_01_preview.models._models_py3.SystemData object at 0x0000023501439E80>, 'serialize': <msrest.serialization.Serializer object at 0x0000023503928400>, 'display_name': 'house_price_regression', 'experiment_name': 'house_price_regression', 'compute': None, 'services': {'Tracking': <azure.ai.ml._restclient.v2022_02_01_preview.models._models_py3.JobService object at 0x00000235024A1880>, 'Studio': <azure.ai.ml._restclient.v2022_02_01_preview.models._models_py3.JobService object at 0x00000235024A1550>}, 'jobs': {'prepare_sample_data': Command({'parameters': {}, 'init': False, 'type': 'command', 'status': None, 'log_files': None, 'name': 'prepare_sample_data', 'description': None, 'tags': {}, 'properties': {}, 'id': None, 'source_path': None, 'base_path': 'c:\\\\Users\\\\zhangzheng.REDMOND\\\\source\\\\repos\\\\AML_hahaha\\\\src\\\\pipelines\\\\house_price_xgbregression', 'creation_context': None, 'serialize': <msrest.serialization.Serializer object at 0x0000023502658A00>, 'allowed_keys': {}, 'key_restriction': False, 'logger': <Logger attr_dict (WARNING)>, 'display_name': None, 'experiment_name': None, 'compute': None, 'services': None, 'job_inputs': {'raw_data': '${{parent.inputs.pipeline_job_input}}'}, 'job_outputs': {'prep_data': '${{parent.outputs.pipeline_job_prepped_train_data}}', 'price_data': '${{parent.outputs.pipeline_job_prepped_price_data}}'}, 'inputs': {'raw_data': <azure.ai.ml.entities._job.pipeline._io.PipelineInputBase object at 0x0000023502658D90>}, 'outputs': {'prep_data': <azure.ai.ml.entities._job.pipeline._io.PipelineOutputBase object at 0x00000235026588E0>, 'price_data': <azure.ai.ml.entities._job.pipeline._io.PipelineOutputBase object at 0x0000023502658820>}, 'component': 'azureml_anonymous:53d2fc04-0977-473c-b500-cdde23f31589', 'kwargs': {}, 'instance_id': '4c977807-54ea-42a7-9776-90d53a59ce80', 'limits': None, 'identity': None, 'distribution': None, 'environment_variables': {}, 'environment': None, 'resources': None, 'swept': False}), 'train_with_sample_data': Command({'parameters': {}, 'init': False, 'type': 'command', 'status': None, 'log_files': None, 'name': 'train_with_sample_data', 'description': None, 'tags': {}, 'properties': {}, 'id': None, 'source_path': None, 'base_path': 'c:\\\\Users\\\\zhangzheng.REDMOND\\\\source\\\\repos\\\\AML_hahaha\\\\src\\\\pipelines\\\\house_price_xgbregression', 'creation_context': None, 'serialize': <msrest.serialization.Serializer object at 0x0000023502658760>, 'allowed_keys': {}, 'key_restriction': False, 'logger': <Logger attr_dict (WARNING)>, 'display_name': None, 'experiment_name': None, 'compute': None, 'services': None, 'job_inputs': {'training_data': '${{parent.jobs.prepare_sample_data.outputs.prep_data}}', 'price_data': '${{parent.jobs.prepare_sample_data.outputs.price_data}}'}, 'job_outputs': {'model_output': '${{parent.outputs.pipeline_job_trained_model}}', 'test_data': '${{parent.outputs.pipeline_job_test_data}}'}, 'inputs': {'training_data': <azure.ai.ml.entities._job.pipeline._io.PipelineInputBase object at 0x00000235026589A0>, 'price_data': <azure.ai.ml.entities._job.pipeline._io.PipelineInputBase object at 0x00000235026589D0>}, 'outputs': {'model_output': <azure.ai.ml.entities._job.pipeline._io.PipelineOutputBase object at 0x0000023502658AF0>, 'test_data': <azure.ai.ml.entities._job.pipeline._io.PipelineOutputBase object at 0x0000023502658850>}, 'component': 'azureml_anonymous:77742b35-16b1-43e6-804b-146c5f713fe5', 'kwargs': {}, 'instance_id': '672cf8cd-ed74-4e24-97d7-a47a7eda6f55', 'limits': None, 'identity': None, 'distribution': None, 'environment_variables': {}, 'environment': None, 'resources': None, 'swept': False})}, 'settings': <azure.ai.ml.entities._job.pipeline.pipeline_job_settings.PipelineJobSettings object at 0x000002350385EE20>, 'identity': None, 'schedule': None, 'default_code': None, 'default_environment': None, 'job_types': {'command': 2}, 'job_sources': {'REST': 2}})"
      ]
     },
     "execution_count": 46,
     "metadata": {},
     "output_type": "execute_result"
    }
   ],
   "source": [
    "# submit job to workspace\n",
    "pipeline_job = ml_client.jobs.create_or_update(\n",
    "    pipeline_job, experiment_name=\"house_price_regression\"\n",
    ")\n",
    "pipeline_job"
   ]
  },
  {
   "cell_type": "code",
   "execution_count": 47,
   "metadata": {},
   "outputs": [
    {
     "name": "stdout",
     "output_type": "stream",
     "text": [
      "RunId: jolly_plum_m31gs3c812\n",
      "Web View: https://ml.azure.com/runs/jolly_plum_m31gs3c812?wsid=/subscriptions/96aede12-2f73-41cb-b983-6d11a904839b/resourcegroups/Hahaha/workspaces/Hahaha\n",
      "\n",
      "Streaming logs/azureml/executionlogs.txt\n",
      "========================================\n",
      "\n",
      "[2022-08-11 08:51:36Z] Completing processing run id d081302f-bcc6-48b8-9e1d-f25e9a40c8e8.\n",
      "[2022-08-11 08:51:37Z] Submitting 1 runs, first five are: e0583c79:c1156c5e-ee7e-4c2c-b225-0d745007d4c0\n",
      "[2022-08-11 08:53:34Z] Execution of experiment failed, update experiment status and cancel running nodes.\n",
      "\n",
      "Execution Summary\n",
      "=================\n",
      "RunId: jolly_plum_m31gs3c812\n",
      "Web View: https://ml.azure.com/runs/jolly_plum_m31gs3c812?wsid=/subscriptions/96aede12-2f73-41cb-b983-6d11a904839b/resourcegroups/Hahaha/workspaces/Hahaha\n"
     ]
    },
    {
     "ename": "JobException",
     "evalue": "Exception : \n {\n    \"error\": {\n        \"code\": \"UserError\",\n        \"message\": \"Pipeline has some failed steps. See child run or execution logs for more details.\",\n        \"message_format\": \"Pipeline has some failed steps. {0}\",\n        \"message_parameters\": {},\n        \"details\": []\n    },\n    \"environment\": \"southeastasia\",\n    \"location\": \"southeastasia\",\n    \"time\": \"2022-08-11T08:53:34.655044Z\",\n    \"component_name\": \"\"\n} ",
     "output_type": "error",
     "traceback": [
      "\u001b[1;31m---------------------------------------------------------------------------\u001b[0m",
      "\u001b[1;31mJobException\u001b[0m                              Traceback (most recent call last)",
      "\u001b[1;32mc:\\Users\\zhangzheng.REDMOND\\source\\repos\\AML_hahaha\\src\\pipelines\\house_price_xgbregression\\house_price_regression.ipynb Cell 12\u001b[0m in \u001b[0;36m<cell line: 2>\u001b[1;34m()\u001b[0m\n\u001b[0;32m      <a href='vscode-notebook-cell:/c%3A/Users/zhangzheng.REDMOND/source/repos/AML_hahaha/src/pipelines/house_price_xgbregression/house_price_regression.ipynb#X14sZmlsZQ%3D%3D?line=0'>1</a>\u001b[0m \u001b[39m# Wait until the job completes\u001b[39;00m\n\u001b[1;32m----> <a href='vscode-notebook-cell:/c%3A/Users/zhangzheng.REDMOND/source/repos/AML_hahaha/src/pipelines/house_price_xgbregression/house_price_regression.ipynb#X14sZmlsZQ%3D%3D?line=1'>2</a>\u001b[0m ml_client\u001b[39m.\u001b[39;49mjobs\u001b[39m.\u001b[39;49mstream(pipeline_job\u001b[39m.\u001b[39;49mname)\n",
      "File \u001b[1;32mc:\\Users\\zhangzheng.REDMOND\\Anaconda3\\envs\\house_price_ml\\lib\\site-packages\\azure\\ai\\ml\\_telemetry\\activity.py:169\u001b[0m, in \u001b[0;36mmonitor_with_activity.<locals>.monitor.<locals>.wrapper\u001b[1;34m(*args, **kwargs)\u001b[0m\n\u001b[0;32m    166\u001b[0m \u001b[39m@functools\u001b[39m\u001b[39m.\u001b[39mwraps(f)\n\u001b[0;32m    167\u001b[0m \u001b[39mdef\u001b[39;00m \u001b[39mwrapper\u001b[39m(\u001b[39m*\u001b[39margs, \u001b[39m*\u001b[39m\u001b[39m*\u001b[39mkwargs):\n\u001b[0;32m    168\u001b[0m     \u001b[39mwith\u001b[39;00m log_activity(logger, activity_name \u001b[39mor\u001b[39;00m f\u001b[39m.\u001b[39m\u001b[39m__name__\u001b[39m, activity_type, custom_dimensions):\n\u001b[1;32m--> 169\u001b[0m         \u001b[39mreturn\u001b[39;00m f(\u001b[39m*\u001b[39;49margs, \u001b[39m*\u001b[39;49m\u001b[39m*\u001b[39;49mkwargs)\n",
      "File \u001b[1;32mc:\\Users\\zhangzheng.REDMOND\\Anaconda3\\envs\\house_price_ml\\lib\\site-packages\\azure\\ai\\ml\\operations\\_job_operations.py:538\u001b[0m, in \u001b[0;36mJobOperations.stream\u001b[1;34m(self, name)\u001b[0m\n\u001b[0;32m    535\u001b[0m     \u001b[39mraise\u001b[39;00m PipelineChildJobError(job_id\u001b[39m=\u001b[39mjob_object\u001b[39m.\u001b[39mid)\n\u001b[0;32m    537\u001b[0m \u001b[39mtry\u001b[39;00m:\n\u001b[1;32m--> 538\u001b[0m     \u001b[39mself\u001b[39;49m\u001b[39m.\u001b[39;49m_stream_logs_until_completion(\n\u001b[0;32m    539\u001b[0m         \u001b[39mself\u001b[39;49m\u001b[39m.\u001b[39;49m_runs_operations,\n\u001b[0;32m    540\u001b[0m         job_object,\n\u001b[0;32m    541\u001b[0m         \u001b[39mself\u001b[39;49m\u001b[39m.\u001b[39;49m_datastore_operations,\n\u001b[0;32m    542\u001b[0m     )\n\u001b[0;32m    543\u001b[0m \u001b[39mexcept\u001b[39;00m \u001b[39mException\u001b[39;00m:\n\u001b[0;32m    544\u001b[0m     \u001b[39mraise\u001b[39;00m\n",
      "File \u001b[1;32mc:\\Users\\zhangzheng.REDMOND\\Anaconda3\\envs\\house_price_ml\\lib\\site-packages\\azure\\ai\\ml\\operations\\_job_ops_helper.py:285\u001b[0m, in \u001b[0;36mstream_logs_until_completion\u001b[1;34m(run_operations, job_resource, datastore_operations, raise_exception_on_failed_job)\u001b[0m\n\u001b[0;32m    283\u001b[0m         file_handle\u001b[39m.\u001b[39mwrite(\u001b[39m\"\u001b[39m\u001b[39m\\n\u001b[39;00m\u001b[39m\"\u001b[39m)\n\u001b[0;32m    284\u001b[0m     \u001b[39melse\u001b[39;00m:\n\u001b[1;32m--> 285\u001b[0m         \u001b[39mraise\u001b[39;00m JobException(\n\u001b[0;32m    286\u001b[0m             message\u001b[39m=\u001b[39m\u001b[39m\"\u001b[39m\u001b[39mException : \u001b[39m\u001b[39m\\n\u001b[39;00m\u001b[39m \u001b[39m\u001b[39m{}\u001b[39;00m\u001b[39m \u001b[39m\u001b[39m\"\u001b[39m\u001b[39m.\u001b[39mformat(json\u001b[39m.\u001b[39mdumps(error, indent\u001b[39m=\u001b[39m\u001b[39m4\u001b[39m)),\n\u001b[0;32m    287\u001b[0m             target\u001b[39m=\u001b[39mErrorTarget\u001b[39m.\u001b[39mJOB,\n\u001b[0;32m    288\u001b[0m             no_personal_data_message\u001b[39m=\u001b[39m\u001b[39m\"\u001b[39m\u001b[39mException raised on failed job.\u001b[39m\u001b[39m\"\u001b[39m,\n\u001b[0;32m    289\u001b[0m         )\n\u001b[0;32m    291\u001b[0m file_handle\u001b[39m.\u001b[39mwrite(\u001b[39m\"\u001b[39m\u001b[39m\\n\u001b[39;00m\u001b[39m\"\u001b[39m)\n\u001b[0;32m    292\u001b[0m file_handle\u001b[39m.\u001b[39mflush()\n",
      "\u001b[1;31mJobException\u001b[0m: Exception : \n {\n    \"error\": {\n        \"code\": \"UserError\",\n        \"message\": \"Pipeline has some failed steps. See child run or execution logs for more details.\",\n        \"message_format\": \"Pipeline has some failed steps. {0}\",\n        \"message_parameters\": {},\n        \"details\": []\n    },\n    \"environment\": \"southeastasia\",\n    \"location\": \"southeastasia\",\n    \"time\": \"2022-08-11T08:53:34.655044Z\",\n    \"component_name\": \"\"\n} "
     ]
    }
   ],
   "source": [
    "# Wait until the job completes\n",
    "ml_client.jobs.stream(pipeline_job.name)"
   ]
  },
  {
   "cell_type": "markdown",
   "metadata": {},
   "source": [
    "# Next Steps\n",
    "You can see further examples of running a pipeline job [here](../)"
   ]
  }
 ],
 "metadata": {
  "description": {
   "description": "Build pipeline with components for 5 jobs - prep data, transform data, train model, predict results and evaluate model performance"
  },
  "kernelspec": {
   "display_name": "Python 3.8.13 ('house_price_ml')",
   "language": "python",
   "name": "python3"
  },
  "language_info": {
   "codemirror_mode": {
    "name": "ipython",
    "version": 3
   },
   "file_extension": ".py",
   "mimetype": "text/x-python",
   "name": "python",
   "nbconvert_exporter": "python",
   "pygments_lexer": "ipython3",
   "version": "3.8.13"
  },
  "vscode": {
   "interpreter": {
    "hash": "40effcfc45508945bc587d951b5904c7430a23ab9b09b38b2957dbcf4f32f793"
   }
  }
 },
 "nbformat": 4,
 "nbformat_minor": 2
}
