{
 "cells": [
  {
   "cell_type": "markdown",
   "metadata": {},
   "source": [
    "# NYC taxi data regression\n",
    "\n",
    "**Requirements** - In order to benefit from this tutorial, you will need:\n",
    "- A basic understanding of Machine Learning\n",
    "- An Azure account with an active subscription - [Create an account for free](https://azure.microsoft.com/free/?WT.mc_id=A261C142F)\n",
    "- An Azure ML workspace with computer cluster - [Configure workspace](../../configuration.ipynb)\n",
    "- A python environment\n",
    "- Installed Azure Machine Learning Python SDK v2 - [install instructions](../../../README.md) - check the getting started section\n",
    "\n",
    "**Learning Objectives** - By the end of this tutorial, you should be able to:\n",
    "- Connect to your AML workspace from the Python SDK\n",
    "- Define different `CommandComponent` using YAML\n",
    "- Create `Pipeline` load these components from YAML\n",
    "\n",
    "**Motivations** - This notebook explains how to load component via SDK then use these components to build pipeline. We use NYC dataset, build pipeline with five steps, prep data, transform data, train model, predict results and evaluate model performance."
   ]
  },
  {
   "cell_type": "markdown",
   "metadata": {},
   "source": [
    "# 1. Connect to Azure Machine Learning Workspace\n",
    "\n",
    "The [workspace](https://docs.microsoft.com/en-us/azure/machine-learning/concept-workspace) is the top-level resource for Azure Machine Learning, providing a centralized place to work with all the artifacts you create when you use Azure Machine Learning. In this section we will connect to the workspace in which the job will be run.\n",
    "\n",
    "## 1.1 Import the required libraries"
   ]
  },
  {
   "cell_type": "code",
   "execution_count": 1,
   "metadata": {},
   "outputs": [],
   "source": [
    "# import required libraries\n",
    "from azure.identity import DefaultAzureCredential, InteractiveBrowserCredential\n",
    "\n",
    "from azure.ai.ml import MLClient, Input\n",
    "from azure.ai.ml.dsl import pipeline\n",
    "from azure.ai.ml import load_component"
   ]
  },
  {
   "cell_type": "markdown",
   "metadata": {},
   "source": [
    "## 1.2 Configure credential\n",
    "\n",
    "We are using `DefaultAzureCredential` to get access to workspace. \n",
    "`DefaultAzureCredential` should be capable of handling most Azure SDK authentication scenarios. \n",
    "\n",
    "Reference for more available credentials if it does not work for you: [configure credential example](../../configuration.ipynb), [azure-identity reference doc](https://docs.microsoft.com/en-us/python/api/azure-identity/azure.identity?view=azure-python)."
   ]
  },
  {
   "cell_type": "code",
   "execution_count": 2,
   "metadata": {},
   "outputs": [],
   "source": [
    "try:\n",
    "    credential = InteractiveBrowserCredential()\n",
    "    # Check if given credential can get token successfully.\n",
    "    credential.get_token(\"https://management.azure.com/.default\")\n",
    "except Exception as ex:\n",
    "    # Fall back to InteractiveBrowserCredential in case DefaultAzureCredential not work\n",
    "    credential = InteractiveBrowserCredential()"
   ]
  },
  {
   "cell_type": "markdown",
   "metadata": {},
   "source": [
    "## 1.3 Get a handle to the workspace\n",
    "\n",
    "We use config file to connect to a workspace. The Azure ML workspace should be configured with computer cluster. [Check this notebook for configure a workspace](../../configuration.ipynb)"
   ]
  },
  {
   "cell_type": "code",
   "execution_count": 3,
   "metadata": {},
   "outputs": [
    {
     "name": "stderr",
     "output_type": "stream",
     "text": [
      "Found the config file in: F:\\AML_hahaha\\src\\pipelines\\.azureml\\config.json\n",
      "Found the config file in: F:\\AML_hahaha\\src\\pipelines\\.azureml\\config.json\n"
     ]
    },
    {
     "name": "stdout",
     "output_type": "stream",
     "text": [
      "MLClient(credential=<azure.identity._credentials.default.DefaultAzureCredential object at 0x0000021AB3403070>,\n",
      "         subscription_id=96aede12-2f73-41cb-b983-6d11a904839b,\n",
      "         resource_group_name=Hahaha,\n",
      "         workspace_name=Hahaha)\n"
     ]
    },
    {
     "ename": "HttpResponseError",
     "evalue": "(AuthorizationFailed) The client '21f37272-fe9d-4a09-872a-79926a061906' with object id '21f37272-fe9d-4a09-872a-79926a061906' does not have authorization to perform action 'Microsoft.MachineLearningServices/workspaces/computes/read' over scope '/subscriptions/96aede12-2f73-41cb-b983-6d11a904839b/resourceGroups/Hahaha/providers/Microsoft.MachineLearningServices/workspaces/Hahaha/computes/cpu-cluster' or the scope is invalid. If access was recently granted, please refresh your credentials.\nCode: AuthorizationFailed\nMessage: The client '21f37272-fe9d-4a09-872a-79926a061906' with object id '21f37272-fe9d-4a09-872a-79926a061906' does not have authorization to perform action 'Microsoft.MachineLearningServices/workspaces/computes/read' over scope '/subscriptions/96aede12-2f73-41cb-b983-6d11a904839b/resourceGroups/Hahaha/providers/Microsoft.MachineLearningServices/workspaces/Hahaha/computes/cpu-cluster' or the scope is invalid. If access was recently granted, please refresh your credentials.",
     "output_type": "error",
     "traceback": [
      "\u001b[1;31m---------------------------------------------------------------------------\u001b[0m",
      "\u001b[1;31mHttpResponseError\u001b[0m                         Traceback (most recent call last)",
      "\u001b[1;32mf:\\AML_hahaha\\src\\pipelines\\nyc_taxi_data_regression\\nyc_taxi_data_regression.ipynb Cell 7\u001b[0m in \u001b[0;36m<cell line: 31>\u001b[1;34m()\u001b[0m\n\u001b[0;32m     <a href='vscode-notebook-cell:/f%3A/AML_hahaha/src/pipelines/nyc_taxi_data_regression/nyc_taxi_data_regression.ipynb#ch0000006?line=28'>29</a>\u001b[0m \u001b[39m# Retrieve an already attached Azure Machine Learning Compute.\u001b[39;00m\n\u001b[0;32m     <a href='vscode-notebook-cell:/f%3A/AML_hahaha/src/pipelines/nyc_taxi_data_regression/nyc_taxi_data_regression.ipynb#ch0000006?line=29'>30</a>\u001b[0m cluster_name \u001b[39m=\u001b[39m \u001b[39m\"\u001b[39m\u001b[39mcpu-cluster\u001b[39m\u001b[39m\"\u001b[39m\n\u001b[1;32m---> <a href='vscode-notebook-cell:/f%3A/AML_hahaha/src/pipelines/nyc_taxi_data_regression/nyc_taxi_data_regression.ipynb#ch0000006?line=30'>31</a>\u001b[0m \u001b[39mprint\u001b[39m(ml_client\u001b[39m.\u001b[39;49mcompute\u001b[39m.\u001b[39;49mget(cluster_name))\n",
      "File \u001b[1;32mc:\\ProgramData\\Anaconda3\\envs\\dpv2Aug\\lib\\site-packages\\azure\\ai\\ml\\_telemetry\\activity.py:230\u001b[0m, in \u001b[0;36mmonitor_with_activity.<locals>.monitor.<locals>.wrapper\u001b[1;34m(*args, **kwargs)\u001b[0m\n\u001b[0;32m    227\u001b[0m \u001b[39m@functools\u001b[39m\u001b[39m.\u001b[39mwraps(f)\n\u001b[0;32m    228\u001b[0m \u001b[39mdef\u001b[39;00m \u001b[39mwrapper\u001b[39m(\u001b[39m*\u001b[39margs, \u001b[39m*\u001b[39m\u001b[39m*\u001b[39mkwargs):\n\u001b[0;32m    229\u001b[0m     \u001b[39mwith\u001b[39;00m log_activity(logger, activity_name \u001b[39mor\u001b[39;00m f\u001b[39m.\u001b[39m\u001b[39m__name__\u001b[39m, activity_type, custom_dimensions):\n\u001b[1;32m--> 230\u001b[0m         \u001b[39mreturn\u001b[39;00m f(\u001b[39m*\u001b[39;49margs, \u001b[39m*\u001b[39;49m\u001b[39m*\u001b[39;49mkwargs)\n",
      "File \u001b[1;32mc:\\ProgramData\\Anaconda3\\envs\\dpv2Aug\\lib\\site-packages\\azure\\ai\\ml\\operations\\_compute_operations.py:80\u001b[0m, in \u001b[0;36mComputeOperations.get\u001b[1;34m(self, name)\u001b[0m\n\u001b[0;32m     70\u001b[0m \u001b[39m@monitor_with_activity\u001b[39m(logger, \u001b[39m\"\u001b[39m\u001b[39mCompute.Get\u001b[39m\u001b[39m\"\u001b[39m, ActivityType\u001b[39m.\u001b[39mPUBLICAPI)\n\u001b[0;32m     71\u001b[0m \u001b[39mdef\u001b[39;00m \u001b[39mget\u001b[39m(\u001b[39mself\u001b[39m, name: \u001b[39mstr\u001b[39m) \u001b[39m-\u001b[39m\u001b[39m>\u001b[39m Compute:\n\u001b[0;32m     72\u001b[0m     \u001b[39m\"\"\"Get a compute resource\u001b[39;00m\n\u001b[0;32m     73\u001b[0m \n\u001b[0;32m     74\u001b[0m \u001b[39m    :param name: Name of the compute\u001b[39;00m\n\u001b[1;32m   (...)\u001b[0m\n\u001b[0;32m     77\u001b[0m \u001b[39m    :rtype: Compute\u001b[39;00m\n\u001b[0;32m     78\u001b[0m \u001b[39m    \"\"\"\u001b[39;00m\n\u001b[1;32m---> 80\u001b[0m     rest_obj \u001b[39m=\u001b[39m \u001b[39mself\u001b[39;49m\u001b[39m.\u001b[39;49m_operation\u001b[39m.\u001b[39;49mget(\n\u001b[0;32m     81\u001b[0m         \u001b[39mself\u001b[39;49m\u001b[39m.\u001b[39;49m_operation_scope\u001b[39m.\u001b[39;49mresource_group_name,\n\u001b[0;32m     82\u001b[0m         \u001b[39mself\u001b[39;49m\u001b[39m.\u001b[39;49m_workspace_name,\n\u001b[0;32m     83\u001b[0m         name,\n\u001b[0;32m     84\u001b[0m     )\n\u001b[0;32m     85\u001b[0m     \u001b[39mreturn\u001b[39;00m Compute\u001b[39m.\u001b[39m_from_rest_object(rest_obj)\n",
      "File \u001b[1;32mc:\\ProgramData\\Anaconda3\\envs\\dpv2Aug\\lib\\site-packages\\azure\\core\\tracing\\decorator.py:78\u001b[0m, in \u001b[0;36mdistributed_trace.<locals>.decorator.<locals>.wrapper_use_tracer\u001b[1;34m(*args, **kwargs)\u001b[0m\n\u001b[0;32m     76\u001b[0m span_impl_type \u001b[39m=\u001b[39m settings\u001b[39m.\u001b[39mtracing_implementation()\n\u001b[0;32m     77\u001b[0m \u001b[39mif\u001b[39;00m span_impl_type \u001b[39mis\u001b[39;00m \u001b[39mNone\u001b[39;00m:\n\u001b[1;32m---> 78\u001b[0m     \u001b[39mreturn\u001b[39;00m func(\u001b[39m*\u001b[39;49margs, \u001b[39m*\u001b[39;49m\u001b[39m*\u001b[39;49mkwargs)\n\u001b[0;32m     80\u001b[0m \u001b[39m# Merge span is parameter is set, but only if no explicit parent are passed\u001b[39;00m\n\u001b[0;32m     81\u001b[0m \u001b[39mif\u001b[39;00m merge_span \u001b[39mand\u001b[39;00m \u001b[39mnot\u001b[39;00m passed_in_parent:\n",
      "File \u001b[1;32mc:\\ProgramData\\Anaconda3\\envs\\dpv2Aug\\lib\\site-packages\\azure\\ai\\ml\\_restclient\\v2022_01_01_preview\\operations\\_compute_operations.py:579\u001b[0m, in \u001b[0;36mComputeOperations.get\u001b[1;34m(self, resource_group_name, workspace_name, compute_name, **kwargs)\u001b[0m\n\u001b[0;32m    577\u001b[0m     map_error(status_code\u001b[39m=\u001b[39mresponse\u001b[39m.\u001b[39mstatus_code, response\u001b[39m=\u001b[39mresponse, error_map\u001b[39m=\u001b[39merror_map)\n\u001b[0;32m    578\u001b[0m     error \u001b[39m=\u001b[39m \u001b[39mself\u001b[39m\u001b[39m.\u001b[39m_deserialize\u001b[39m.\u001b[39mfailsafe_deserialize(_models\u001b[39m.\u001b[39mErrorResponse, pipeline_response)\n\u001b[1;32m--> 579\u001b[0m     \u001b[39mraise\u001b[39;00m HttpResponseError(response\u001b[39m=\u001b[39mresponse, model\u001b[39m=\u001b[39merror, error_format\u001b[39m=\u001b[39mARMErrorFormat)\n\u001b[0;32m    581\u001b[0m deserialized \u001b[39m=\u001b[39m \u001b[39mself\u001b[39m\u001b[39m.\u001b[39m_deserialize(\u001b[39m'\u001b[39m\u001b[39mComputeResource\u001b[39m\u001b[39m'\u001b[39m, pipeline_response)\n\u001b[0;32m    583\u001b[0m \u001b[39mif\u001b[39;00m \u001b[39mcls\u001b[39m:\n",
      "\u001b[1;31mHttpResponseError\u001b[0m: (AuthorizationFailed) The client '21f37272-fe9d-4a09-872a-79926a061906' with object id '21f37272-fe9d-4a09-872a-79926a061906' does not have authorization to perform action 'Microsoft.MachineLearningServices/workspaces/computes/read' over scope '/subscriptions/96aede12-2f73-41cb-b983-6d11a904839b/resourceGroups/Hahaha/providers/Microsoft.MachineLearningServices/workspaces/Hahaha/computes/cpu-cluster' or the scope is invalid. If access was recently granted, please refresh your credentials.\nCode: AuthorizationFailed\nMessage: The client '21f37272-fe9d-4a09-872a-79926a061906' with object id '21f37272-fe9d-4a09-872a-79926a061906' does not have authorization to perform action 'Microsoft.MachineLearningServices/workspaces/computes/read' over scope '/subscriptions/96aede12-2f73-41cb-b983-6d11a904839b/resourceGroups/Hahaha/providers/Microsoft.MachineLearningServices/workspaces/Hahaha/computes/cpu-cluster' or the scope is invalid. If access was recently granted, please refresh your credentials."
     ]
    }
   ],
   "source": [
    "try:\n",
    "    ml_client = MLClient.from_config(credential=credential)\n",
    "except Exception as ex:\n",
    "    # NOTE: Update following workspace information if not correctly configure before\n",
    "    client_config = {\n",
    "        \"subscription_id\": \"96aede12-2f73-41cb-b983-6d11a904839b\",\n",
    "        \"resource_group\": \"Hahaha\",\n",
    "        \"workspace_name\": \"Hahaha\",\n",
    "    }\n",
    "\n",
    "    if client_config[\"subscription_id\"].startswith(\"<\"):\n",
    "        print(\n",
    "            \"please update your <SUBSCRIPTION_ID> <RESOURCE_GROUP> <AML_WORKSPACE_NAME> in notebook cell\"\n",
    "        )\n",
    "        raise ex\n",
    "    else:  # write and reload from config file\n",
    "        import json, os\n",
    "\n",
    "        config_path = \"../.azureml/config.json\"\n",
    "        os.makedirs(os.path.dirname(config_path), exist_ok=True)\n",
    "        with open(config_path, \"w\") as fo:\n",
    "            fo.write(json.dumps(client_config))\n",
    "        ml_client = MLClient.from_config(credential=credential, path=config_path)\n",
    "print(ml_client)\n",
    "\n",
    "# Get a handle to workspace\n",
    "ml_client = MLClient.from_config(credential=credential)\n",
    "\n",
    "# Retrieve an already attached Azure Machine Learning Compute.\n",
    "cluster_name = \"cpu-cluster\"\n",
    "print(ml_client.compute.get(cluster_name))"
   ]
  },
  {
   "cell_type": "markdown",
   "metadata": {},
   "source": [
    "# 2. Build pipeline"
   ]
  },
  {
   "cell_type": "code",
   "execution_count": null,
   "metadata": {},
   "outputs": [],
   "source": [
    "parent_dir = \"\"\n",
    "\n",
    "# 1. Load components\n",
    "prepare_data = load_component(path=parent_dir + \"./prep.yml\")\n",
    "transform_data = load_component(path=parent_dir + \"./transform.yml\")\n",
    "train_model = load_component(path=parent_dir + \"./train.yml\")\n",
    "predict_result = load_component(path=parent_dir + \"./predict.yml\")\n",
    "score_data = load_component(path=parent_dir + \"./score.yml\")\n",
    "\n",
    "# 2. Construct pipeline\n",
    "@pipeline()\n",
    "def nyc_taxi_data_regression(pipeline_job_input):\n",
    "    \"\"\"NYC taxi data regression example.\"\"\"\n",
    "    prepare_sample_data = prepare_data(raw_data=pipeline_job_input)\n",
    "    transform_sample_data = transform_data(\n",
    "        clean_data=prepare_sample_data.outputs.prep_data\n",
    "    )\n",
    "    train_with_sample_data = train_model(\n",
    "        training_data=transform_sample_data.outputs.transformed_data\n",
    "    )\n",
    "    predict_with_sample_data = predict_result(\n",
    "        model_input=train_with_sample_data.outputs.model_output,\n",
    "        test_data=train_with_sample_data.outputs.test_data,\n",
    "    )\n",
    "    score_with_sample_data = score_data(\n",
    "        predictions=predict_with_sample_data.outputs.predictions,\n",
    "        model=train_with_sample_data.outputs.model_output,\n",
    "    )\n",
    "    return {\n",
    "        \"pipeline_job_prepped_data\": prepare_sample_data.outputs.prep_data,\n",
    "        \"pipeline_job_transformed_data\": transform_sample_data.outputs.transformed_data,\n",
    "        \"pipeline_job_trained_model\": train_with_sample_data.outputs.model_output,\n",
    "        \"pipeline_job_test_data\": train_with_sample_data.outputs.test_data,\n",
    "        \"pipeline_job_predictions\": predict_with_sample_data.outputs.predictions,\n",
    "        \"pipeline_job_score_report\": score_with_sample_data.outputs.score_report,\n",
    "    }\n",
    "\n",
    "\n",
    "pipeline_job = nyc_taxi_data_regression(\n",
    "    Input(type=\"uri_folder\", path=parent_dir + \"./data/\")\n",
    ")\n",
    "# demo how to change pipeline output settings\n",
    "pipeline_job.outputs.pipeline_job_prepped_data.mode = \"rw_mount\"\n",
    "\n",
    "# set pipeline level compute\n",
    "pipeline_job.settings.default_compute = \"cpu-cluster\"\n",
    "# set pipeline level datastore\n",
    "pipeline_job.settings.default_datastore = \"workspaceblobstore\""
   ]
  },
  {
   "cell_type": "markdown",
   "metadata": {},
   "source": [
    "## 3. Submit pipeline job"
   ]
  },
  {
   "cell_type": "code",
   "execution_count": null,
   "metadata": {},
   "outputs": [],
   "source": [
    "# submit job to workspace\n",
    "pipeline_job = ml_client.jobs.create_or_update(\n",
    "    pipeline_job, experiment_name=\"pipeline_samples\"\n",
    ")\n",
    "pipeline_job"
   ]
  },
  {
   "cell_type": "code",
   "execution_count": null,
   "metadata": {},
   "outputs": [],
   "source": [
    "# Wait until the job completes\n",
    "ml_client.jobs.stream(pipeline_job.name)"
   ]
  },
  {
   "cell_type": "markdown",
   "metadata": {},
   "source": [
    "# Next Steps\n",
    "You can see further examples of running a pipeline job [here](../)"
   ]
  }
 ],
 "metadata": {
  "description": {
   "description": "Build pipeline with components for 5 jobs - prep data, transform data, train model, predict results and evaluate model performance"
  },
  "kernelspec": {
   "display_name": "Python 3.8.13 ('dpv2Aug')",
   "language": "python",
   "name": "python3"
  },
  "language_info": {
   "codemirror_mode": {
    "name": "ipython",
    "version": 3
   },
   "file_extension": ".py",
   "mimetype": "text/x-python",
   "name": "python",
   "nbconvert_exporter": "python",
   "pygments_lexer": "ipython3",
   "version": "3.8.13"
  },
  "vscode": {
   "interpreter": {
    "hash": "80bb8445fcb6ca6333b7c6bd2e3952f1f33b929f08c89a406d55bb782874c019"
   }
  }
 },
 "nbformat": 4,
 "nbformat_minor": 2
}
